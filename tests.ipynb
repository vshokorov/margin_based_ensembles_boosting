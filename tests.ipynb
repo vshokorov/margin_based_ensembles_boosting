{
 "cells": [
  {
   "cell_type": "code",
   "execution_count": 1,
   "metadata": {},
   "outputs": [],
   "source": [
    "import torch\n",
    "import numpy as np\n",
    "import models\n",
    "import data\n",
    "import utils\n",
    "from matplotlib import pyplot as plt"
   ]
  },
  {
   "cell_type": "markdown",
   "metadata": {},
   "source": [
    "# Так как тесты проходят не валидационном датасете, а другом. Поэтому в данной части немного исправим файлы `predictions_run*`"
   ]
  },
  {
   "cell_type": "code",
   "execution_count": 3,
   "metadata": {},
   "outputs": [
    {
     "name": "stdout",
     "output_type": "stream",
     "text": [
      "Files already downloaded and verified\n",
      "Using train (45000)\n",
      "Using validation (5000)\n"
     ]
    }
   ],
   "source": [
    "\"--dir=logs\",\n",
    "data_path=\"./data/\"\n",
    "dataset=\"CIFAR10\"\n",
    "transform=\"VGG\"\n",
    "model=\"VGG16\"\n",
    "batch_size=128\n",
    "num_workers=4\n",
    "use_test=False\n",
    "\"--save_freq=200\",\n",
    "\"--print_freq=5\",\n",
    "\"--epochs=200\",\n",
    "\"--wd=0.001\",\n",
    "\"--lr=0.05\",\n",
    "dropout=0.5\n",
    "\"--comment=width64\",\n",
    "\"--seed=25477\",\n",
    "width=64\n",
    "\"--num-nets=8\",\n",
    "\"--num-exps=5\"\n",
    "\n",
    "loaders, num_classes = data.loaders(dataset,\n",
    "                                    data_path,\n",
    "                                    batch_size,\n",
    "                                    num_workers,\n",
    "                                    transform,\n",
    "                                    use_test\n",
    "                                    )\n",
    "\n",
    "architecture = getattr(models, model)()\n",
    "architecture.kwargs[\"k\"] = width\n",
    "if \"VGG\" in model or \"WideResNet\" in model:\n",
    "    architecture.kwargs[\"p\"] = dropout\n",
    "model = architecture.base(num_classes=num_classes, **architecture.kwargs)"
   ]
  },
  {
   "cell_type": "code",
   "execution_count": 7,
   "metadata": {},
   "outputs": [],
   "source": [
    "def predictions(test_loader, model, **kwargs):\n",
    "    model.eval()\n",
    "    preds = []\n",
    "    targets = []\n",
    "    for input, target in test_loader:\n",
    "        input = input.cuda() # async=True\n",
    "        output = model(input, **kwargs)\n",
    "        probs = output #F.softmax(output, dim=1)\n",
    "        preds.append(probs.cpu().data.numpy())\n",
    "        targets.append(target.numpy())\n",
    "    return np.vstack(preds), np.concatenate(targets)"
   ]
  },
  {
   "cell_type": "code",
   "execution_count": 8,
   "metadata": {},
   "outputs": [
    {
     "ename": "FileNotFoundError",
     "evalue": "[Errno 2] No such file or directory: 'logs/oct/train.py-CIFAR10_VGG16/test_it/width64_all_DS-11-10-22:03:48/model_run0.cpt'",
     "output_type": "error",
     "traceback": [
      "\u001b[0;31m---------------------------------------------------------------------------\u001b[0m",
      "\u001b[0;31mFileNotFoundError\u001b[0m                         Traceback (most recent call last)",
      "\u001b[0;32m<ipython-input-8-f79b423f52a8>\u001b[0m in \u001b[0;36m<module>\u001b[0;34m\u001b[0m\n\u001b[1;32m      2\u001b[0m \u001b[0;34m\u001b[0m\u001b[0m\n\u001b[1;32m      3\u001b[0m \u001b[0;32mfor\u001b[0m \u001b[0mnum_model\u001b[0m \u001b[0;32min\u001b[0m \u001b[0mrange\u001b[0m\u001b[0;34m(\u001b[0m\u001b[0;36m8\u001b[0m\u001b[0;34m)\u001b[0m\u001b[0;34m:\u001b[0m\u001b[0;34m\u001b[0m\u001b[0;34m\u001b[0m\u001b[0m\n\u001b[0;32m----> 4\u001b[0;31m     \u001b[0msaved_data\u001b[0m \u001b[0;34m=\u001b[0m \u001b[0mtorch\u001b[0m\u001b[0;34m.\u001b[0m\u001b[0mload\u001b[0m\u001b[0;34m(\u001b[0m\u001b[0mwork_dir\u001b[0m\u001b[0;34m+\u001b[0m\u001b[0;34mf'model_run{num_model}.cpt'\u001b[0m\u001b[0;34m,\u001b[0m \u001b[0mmap_location\u001b[0m\u001b[0;34m=\u001b[0m\u001b[0;34m'cpu'\u001b[0m\u001b[0;34m)\u001b[0m\u001b[0;34m\u001b[0m\u001b[0;34m\u001b[0m\u001b[0m\n\u001b[0m\u001b[1;32m      5\u001b[0m     \u001b[0mmodel\u001b[0m\u001b[0;34m.\u001b[0m\u001b[0mload_state_dict\u001b[0m\u001b[0;34m(\u001b[0m\u001b[0msaved_data\u001b[0m\u001b[0;34m[\u001b[0m\u001b[0;34m'model_state'\u001b[0m\u001b[0;34m]\u001b[0m\u001b[0;34m)\u001b[0m\u001b[0;34m\u001b[0m\u001b[0;34m\u001b[0m\u001b[0m\n\u001b[1;32m      6\u001b[0m \u001b[0;34m\u001b[0m\u001b[0m\n",
      "\u001b[0;32m~/.local/lib/python3.8/site-packages/torch/serialization.py\u001b[0m in \u001b[0;36mload\u001b[0;34m(f, map_location, pickle_module, **pickle_load_args)\u001b[0m\n\u001b[1;32m    577\u001b[0m         \u001b[0mpickle_load_args\u001b[0m\u001b[0;34m[\u001b[0m\u001b[0;34m'encoding'\u001b[0m\u001b[0;34m]\u001b[0m \u001b[0;34m=\u001b[0m \u001b[0;34m'utf-8'\u001b[0m\u001b[0;34m\u001b[0m\u001b[0;34m\u001b[0m\u001b[0m\n\u001b[1;32m    578\u001b[0m \u001b[0;34m\u001b[0m\u001b[0m\n\u001b[0;32m--> 579\u001b[0;31m     \u001b[0;32mwith\u001b[0m \u001b[0m_open_file_like\u001b[0m\u001b[0;34m(\u001b[0m\u001b[0mf\u001b[0m\u001b[0;34m,\u001b[0m \u001b[0;34m'rb'\u001b[0m\u001b[0;34m)\u001b[0m \u001b[0;32mas\u001b[0m \u001b[0mopened_file\u001b[0m\u001b[0;34m:\u001b[0m\u001b[0;34m\u001b[0m\u001b[0;34m\u001b[0m\u001b[0m\n\u001b[0m\u001b[1;32m    580\u001b[0m         \u001b[0;32mif\u001b[0m \u001b[0m_is_zipfile\u001b[0m\u001b[0;34m(\u001b[0m\u001b[0mopened_file\u001b[0m\u001b[0;34m)\u001b[0m\u001b[0;34m:\u001b[0m\u001b[0;34m\u001b[0m\u001b[0;34m\u001b[0m\u001b[0m\n\u001b[1;32m    581\u001b[0m             \u001b[0;31m# The zipfile reader is going to advance the current file position.\u001b[0m\u001b[0;34m\u001b[0m\u001b[0;34m\u001b[0m\u001b[0;34m\u001b[0m\u001b[0m\n",
      "\u001b[0;32m~/.local/lib/python3.8/site-packages/torch/serialization.py\u001b[0m in \u001b[0;36m_open_file_like\u001b[0;34m(name_or_buffer, mode)\u001b[0m\n\u001b[1;32m    228\u001b[0m \u001b[0;32mdef\u001b[0m \u001b[0m_open_file_like\u001b[0m\u001b[0;34m(\u001b[0m\u001b[0mname_or_buffer\u001b[0m\u001b[0;34m,\u001b[0m \u001b[0mmode\u001b[0m\u001b[0;34m)\u001b[0m\u001b[0;34m:\u001b[0m\u001b[0;34m\u001b[0m\u001b[0;34m\u001b[0m\u001b[0m\n\u001b[1;32m    229\u001b[0m     \u001b[0;32mif\u001b[0m \u001b[0m_is_path\u001b[0m\u001b[0;34m(\u001b[0m\u001b[0mname_or_buffer\u001b[0m\u001b[0;34m)\u001b[0m\u001b[0;34m:\u001b[0m\u001b[0;34m\u001b[0m\u001b[0;34m\u001b[0m\u001b[0m\n\u001b[0;32m--> 230\u001b[0;31m         \u001b[0;32mreturn\u001b[0m \u001b[0m_open_file\u001b[0m\u001b[0;34m(\u001b[0m\u001b[0mname_or_buffer\u001b[0m\u001b[0;34m,\u001b[0m \u001b[0mmode\u001b[0m\u001b[0;34m)\u001b[0m\u001b[0;34m\u001b[0m\u001b[0;34m\u001b[0m\u001b[0m\n\u001b[0m\u001b[1;32m    231\u001b[0m     \u001b[0;32melse\u001b[0m\u001b[0;34m:\u001b[0m\u001b[0;34m\u001b[0m\u001b[0;34m\u001b[0m\u001b[0m\n\u001b[1;32m    232\u001b[0m         \u001b[0;32mif\u001b[0m \u001b[0;34m'w'\u001b[0m \u001b[0;32min\u001b[0m \u001b[0mmode\u001b[0m\u001b[0;34m:\u001b[0m\u001b[0;34m\u001b[0m\u001b[0;34m\u001b[0m\u001b[0m\n",
      "\u001b[0;32m~/.local/lib/python3.8/site-packages/torch/serialization.py\u001b[0m in \u001b[0;36m__init__\u001b[0;34m(self, name, mode)\u001b[0m\n\u001b[1;32m    209\u001b[0m \u001b[0;32mclass\u001b[0m \u001b[0m_open_file\u001b[0m\u001b[0;34m(\u001b[0m\u001b[0m_opener\u001b[0m\u001b[0;34m)\u001b[0m\u001b[0;34m:\u001b[0m\u001b[0;34m\u001b[0m\u001b[0;34m\u001b[0m\u001b[0m\n\u001b[1;32m    210\u001b[0m     \u001b[0;32mdef\u001b[0m \u001b[0m__init__\u001b[0m\u001b[0;34m(\u001b[0m\u001b[0mself\u001b[0m\u001b[0;34m,\u001b[0m \u001b[0mname\u001b[0m\u001b[0;34m,\u001b[0m \u001b[0mmode\u001b[0m\u001b[0;34m)\u001b[0m\u001b[0;34m:\u001b[0m\u001b[0;34m\u001b[0m\u001b[0;34m\u001b[0m\u001b[0m\n\u001b[0;32m--> 211\u001b[0;31m         \u001b[0msuper\u001b[0m\u001b[0;34m(\u001b[0m\u001b[0m_open_file\u001b[0m\u001b[0;34m,\u001b[0m \u001b[0mself\u001b[0m\u001b[0;34m)\u001b[0m\u001b[0;34m.\u001b[0m\u001b[0m__init__\u001b[0m\u001b[0;34m(\u001b[0m\u001b[0mopen\u001b[0m\u001b[0;34m(\u001b[0m\u001b[0mname\u001b[0m\u001b[0;34m,\u001b[0m \u001b[0mmode\u001b[0m\u001b[0;34m)\u001b[0m\u001b[0;34m)\u001b[0m\u001b[0;34m\u001b[0m\u001b[0;34m\u001b[0m\u001b[0m\n\u001b[0m\u001b[1;32m    212\u001b[0m \u001b[0;34m\u001b[0m\u001b[0m\n\u001b[1;32m    213\u001b[0m     \u001b[0;32mdef\u001b[0m \u001b[0m__exit__\u001b[0m\u001b[0;34m(\u001b[0m\u001b[0mself\u001b[0m\u001b[0;34m,\u001b[0m \u001b[0;34m*\u001b[0m\u001b[0margs\u001b[0m\u001b[0;34m)\u001b[0m\u001b[0;34m:\u001b[0m\u001b[0;34m\u001b[0m\u001b[0;34m\u001b[0m\u001b[0m\n",
      "\u001b[0;31mFileNotFoundError\u001b[0m: [Errno 2] No such file or directory: 'logs/oct/train.py-CIFAR10_VGG16/test_it/width64_all_DS-11-10-22:03:48/model_run0.cpt'"
     ]
    }
   ],
   "source": [
    "# work_dir = 'drive/MyDrive/Vetrov/power_laws_deep_ensembles/logs/oct/train.py-CIFAR10_VGG16/width16_bootstrapped_DS-11-16-22:42:00/'\n",
    "work_dir = 'drive/MyDrive/Vetrov/power_laws_deep_ensembles/logs/oct/train.py-CIFAR10_VGG16/width16_all_DS-11-16-22:41:56/'\n",
    "\n",
    "for num_model in range(100):\n",
    "    saved_data = torch.load(work_dir+f'model_run{num_model}.cpt', map_location='cpu')\n",
    "    model.load_state_dict(saved_data['model_state'])\n",
    "\n",
    "    predictions_logits, targets = predictions(loaders['test'], model)\n",
    "    np.save(work_dir + 'predictions_run%d' % num_model, predictions_logits)"
   ]
  },
  {
   "cell_type": "code",
   "execution_count": 37,
   "metadata": {},
   "outputs": [],
   "source": []
  },
  {
   "cell_type": "code",
   "execution_count": 41,
   "metadata": {},
   "outputs": [],
   "source": [
    "a = ({'idth64_one_model_all_DS': [[0.2230979779897145]], 'idth64_jikko': [[0.28038630706529777, 0.2883417261518423, 0.28219523896055054, 0.29111318865708463, 0.28146418453354227, 0.2891230989086065, 0.28216981876345365], [0.255760371726635, 0.25993916409693174, 0.25596152570869246], [0.24390218026228017, 0.24406948981762872], [0.24108480964405793], [0.24109533119023102], [0.24114732810022435], [0.24117285270063493]]}, {'idth64_one_model_all_DS': [[0.30392202957640374]], 'idth64_jikko': [[0.3856634381029603, 0.3939126744515373, 0.384885129563116, 0.40147924065915885, 0.3817979879040634, 0.3939900846008901, 0.3831623040655162], [0.3081009506438151, 0.31582169267967586, 0.30580502661077397], [0.27938810388509344, 0.27828471509318353], [0.2707527364725438], [0.2707527364725438], [0.2707527364725438], [0.2707527364725438]]}, {'idth64_one_model_all_DS': [[0.931]], 'idth64_jikko': [[0.9114, 0.9088, 0.9104, 0.9086, 0.911, 0.911, 0.9102], [0.916, 0.9172, 0.9182], [0.9184, 0.917], [0.9188], [0.9188], [0.9188], [0.9188]]}, {'idth64_one_model_all_DS': [[[1.892968750000002, 1.9062500000000022, 1.9078125000000021, 1.891406250000002, 1.888281250000002, 1.910156250000002, 1.9546875000000021, 1.8421875000000019, 1.9000000000000021, 1.9000000000000021]]], 'idth64_jikko': [[[1.919531250000002, 1.9445312500000023, 2.005468750000002, 1.854687500000002, 1.955468750000002, 1.908593750000002, 1.9273437500000021, 1.9367187500000023, 1.875781250000002, 1.9859375000000021], [1.924218750000002, 1.924218750000002, 1.9585937500000021, 1.8890625000000019, 1.917187500000002, 1.9312500000000021, 1.908593750000002, 1.9398437500000023, 1.8984375000000022, 1.9492187500000022], [1.9023437500000022, 1.9375000000000022, 1.8960937500000021, 1.9429687500000024, 1.917187500000002, 1.921875000000002, 1.8890625000000019, 1.9492187500000022, 1.9546875000000021, 1.884375000000002], [1.890625000000002, 1.9929687500000022, 1.928125000000002, 1.9585937500000021, 1.9304687500000022, 1.956250000000002, 1.8960937500000021, 1.9875000000000023, 1.9312500000000021, 1.955468750000002], [1.9046875000000023, 1.9117187500000021, 1.916406250000002, 1.9000000000000021, 1.885937500000002, 1.928906250000002, 1.9468750000000021, 1.865625000000002, 1.878125000000002, 1.9351562500000021], [1.901562500000002, 1.948437500000002, 1.9367187500000023, 1.9140625000000022, 1.8679687500000022, 1.9789062500000023, 1.9531250000000022, 1.8960937500000021, 1.928906250000002, 1.921875000000002], [1.928906250000002, 1.890625000000002, 1.9156250000000021, 1.9046875000000023, 1.9234375000000021, 1.896875000000002, 1.9531250000000022, 1.864062500000002, 1.8984375000000022, 1.921875000000002]], [[1.7109375000000018, 1.6546875000000019, 1.6875000000000018, 1.6804687500000017, 1.6734375000000017, 1.6937500000000019, 1.6859375000000019, 1.6820312500000016, 1.640625000000002, 1.7250000000000019], [1.7101562500000016, 1.6937500000000019, 1.6789062500000016, 1.7257812500000018, 1.6609375000000015, 1.739062500000002, 1.7164062500000017, 1.6882812500000017, 1.6687500000000015, 1.7343750000000018], [1.6640625000000018, 1.6796875000000018, 1.641406250000002, 1.7015625000000019, 1.6875000000000018, 1.6562500000000018, 1.7031250000000018, 1.640625000000002, 1.6562500000000018, 1.6875000000000018]], [[1.5859375000000018, 1.5585937500000018, 1.5960937500000019, 1.5468750000000016, 1.5429687500000016, 1.602343750000002, 1.5546875000000018, 1.5898437500000018, 1.5359375000000015, 1.6078125000000019], [1.5523437500000017, 1.5796875000000017, 1.5359375000000015, 1.5960937500000019, 1.5640625000000017, 1.567968750000002, 1.6218750000000017, 1.5062500000000014, 1.5515625000000015, 1.5804687500000016]], [[1.5484375000000017, 1.5000000000000013, 1.5437500000000015, 1.5062500000000014, 1.5117187500000016, 1.5375000000000014, 1.5078125000000013, 1.5414062500000014, 1.5429687500000016, 1.5070312500000014]], [[1.5046875000000015, 1.5437500000000015, 1.5492187500000016, 1.5007812500000013, 1.5257812500000014, 1.5234375000000013, 1.5398437500000015, 1.5085937500000015, 1.5507812500000016, 1.4976562500000012]], [[1.5312500000000013, 1.5179687500000016, 1.5664062500000018, 1.4804687500000016, 1.5015625000000012, 1.5468750000000016, 1.5125000000000015, 1.5375000000000014, 1.5453125000000014, 1.5039062500000013]], [[1.5023437500000014, 1.5453125000000014, 1.5539062500000016, 1.4937500000000012, 1.4937500000000012, 1.5546875000000018, 1.5445312500000015, 1.5039062500000013, 1.5515625000000015, 1.4953125000000012]]]})"
   ]
  },
  {
   "cell_type": "code",
   "execution_count": 44,
   "metadata": {},
   "outputs": [],
   "source": [
    "nlls_c, nlls_nc, accs_global, temps_global = a"
   ]
  },
  {
   "cell_type": "code",
   "execution_count": 46,
   "metadata": {},
   "outputs": [
    {
     "data": {
      "text/plain": [
       "{'idth64_one_model_all_DS': [[0.931]],\n",
       " 'idth64_jikko': [[0.9114, 0.9088, 0.9104, 0.9086, 0.911, 0.911, 0.9102],\n",
       "  [0.916, 0.9172, 0.9182],\n",
       "  [0.9184, 0.917],\n",
       "  [0.9188],\n",
       "  [0.9188],\n",
       "  [0.9188],\n",
       "  [0.9188]]}"
      ]
     },
     "execution_count": 46,
     "metadata": {},
     "output_type": "execute_result"
    }
   ],
   "source": [
    "accs_global"
   ]
  },
  {
   "cell_type": "code",
   "execution_count": 1,
   "metadata": {},
   "outputs": [
    {
     "name": "stdout",
     "output_type": "stream",
     "text": [
      "start process: 1\n",
      "fun from 0 to 1\n",
      "fun from 1 to 2\n",
      "fun from 2 to 3\n",
      "fun from 3 to 4\n",
      "fun from 4 to 5\n",
      "fun from 5 to 6\n",
      "fun from 6 to 7\n",
      "fun from 7 to 8\n",
      "fun from 8 to 9\n",
      "fun from 9 to 10\n",
      "start process: 2\n",
      "fun from 0 to 2\n",
      "fun from 2 to 4\n",
      "fun from 4 to 6\n",
      "fun from 6 to 8\n",
      "fun from 8 to 10\n",
      "start process: 3\n",
      "fun from 0 to 3\n",
      "fun from 3 to 6\n",
      "fun from 6 to 9\n",
      "start process: 4\n",
      "fun from 0 to 4\n",
      "fun from 4 to 8\n",
      "start process: 5\n",
      "fun from 0 to 5\n",
      "fun from 5 to 10\n",
      "start process: 6\n",
      "fun from 0 to 6\n",
      "start process: 7\n"
     ]
    }
   ],
   "source": [
    "\n",
    "leng = 10\n",
    "for l in range(1, leng+1):\n",
    "    print('start process:', l)\n",
    "    accs, c_nlls, nc_nlls, temps = [], [], [], []\n",
    "    if l < leng // 2 + 2:\n",
    "        count = leng//l\n",
    "        for j in range(count):\n",
    "            print('fun from', j*l, 'to', (j+1)*l)\n",
    "    else:\n",
    "        break"
   ]
  },
  {
   "cell_type": "code",
   "execution_count": null,
   "metadata": {},
   "outputs": [],
   "source": []
  },
  {
   "cell_type": "code",
   "execution_count": 4,
   "metadata": {},
   "outputs": [],
   "source": [
    "with open('gather_logs/gather_nlls.py-setup2_optimal_CIFAR10_VGG16_regtest_run-11-16-22:09:47/output.out', 'r') as fr:\n",
    "    l = fr.readlines()"
   ]
  },
  {
   "cell_type": "code",
   "execution_count": 5,
   "metadata": {},
   "outputs": [],
   "source": [
    "import json\n",
    "import yaml"
   ]
  },
  {
   "cell_type": "code",
   "execution_count": 6,
   "metadata": {},
   "outputs": [],
   "source": [
    "nlls_c_or       = yaml.safe_load(l[-1].split('}')[0][1:] + '}')\n",
    "nlls_nc_or      = yaml.safe_load(l[-1].split('}')[1][2:] + '}')\n",
    "accs_global_or  = yaml.safe_load(l[-1].split('}')[2][2:] + '}')\n",
    "temps_global_or = yaml.safe_load(l[-1].split('}')[3][2:] + '}')\n",
    "boot_name, all_name = nlls_c_or.keys()"
   ]
  },
  {
   "cell_type": "code",
   "execution_count": 9,
   "metadata": {},
   "outputs": [
    {
     "data": {
      "text/plain": [
       "(28, 24)"
      ]
     },
     "execution_count": 9,
     "metadata": {},
     "output_type": "execute_result"
    }
   ],
   "source": [
    "len(nlls_c_or[boot_name]), len(nlls_c_or[all_name])"
   ]
  },
  {
   "cell_type": "code",
   "execution_count": 10,
   "metadata": {},
   "outputs": [
    {
     "data": {
      "image/png": "[encoded data removed]",
      "text/plain": [
       "<Figure size 1440x504 with 3 Axes>"
      ]
     },
     "metadata": {
      "needs_background": "light"
     },
     "output_type": "display_data"
    }
   ],
   "source": [
    "fig, (ax1, ax2, ax3) = plt.subplots(1, 3, figsize = (20, 7))\n",
    "\n",
    "major_ticks = np.arange(1, max(len(nlls_c_or[boot_name]), len(nlls_c_or[all_name])) + 1, 1)\n",
    "\n",
    "a = ax1.scatter([j + 1 for j, sl in enumerate(nlls_c_or[boot_name]) for i in sl],\n",
    "            [i for sl in nlls_c_or[boot_name] for i in sl], marker='+')\n",
    "b = ax1.scatter([j + 1 for j, sl in enumerate(nlls_c_or[all_name]) for i in sl],\n",
    "            [i for sl in nlls_c_or[all_name] for i in sl], marker='+')\n",
    "ax1.grid()\n",
    "ax1.set_xticks(major_ticks)\n",
    "ax1.set_title('nlls_c')\n",
    "ax2.scatter([j + 1 for j, sl in enumerate(nlls_nc_or[boot_name]) for i in sl],\n",
    "            [i for sl in nlls_nc_or[boot_name] for i in sl], marker='+', label='w' + boot_name)\n",
    "ax2.scatter([j + 1 for j, sl in enumerate(nlls_nc_or[all_name]) for i in sl],\n",
    "            [i for sl in nlls_nc_or[all_name] for i in sl], marker='+', label='w' + all_name)\n",
    "ax2.grid()\n",
    "ax2.set_xticks(major_ticks)\n",
    "ax2.set_title('nlls_nc')\n",
    "ax3.scatter([j + 1 for j, sl in enumerate(accs_global_or[boot_name]) for i in sl],\n",
    "            [i for sl in accs_global_or[boot_name] for i in sl], marker='+')\n",
    "ax3.scatter([j + 1 for j, sl in enumerate(accs_global_or[all_name]) for i in sl],\n",
    "            [i for sl in accs_global_or[all_name] for i in sl], marker='+')\n",
    "ax3.grid()\n",
    "ax3.set_xticks(major_ticks)\n",
    "ax3.set_title('acc')\n",
    "\n",
    "\n",
    "# fig.suptitle('w' + a1)\n",
    "\n",
    "ax2.legend()\n",
    "plt.show()"
   ]
  },
  {
   "cell_type": "code",
   "execution_count": null,
   "metadata": {},
   "outputs": [],
   "source": []
  },
  {
   "cell_type": "code",
   "execution_count": null,
   "metadata": {},
   "outputs": [],
   "source": []
  },
  {
   "cell_type": "code",
   "execution_count": null,
   "metadata": {},
   "outputs": [],
   "source": []
  },
  {
   "cell_type": "code",
   "execution_count": 11,
   "metadata": {},
   "outputs": [],
   "source": [
    "import os\n",
    "from gather_nlls_module import ComputeNLLs\n",
    "\n",
    "def softmax(x):\n",
    "    e_x = np.exp(x - np.reshape(np.max(x,axis=1),(-1,1)))\n",
    "    return e_x / np.reshape(e_x.sum(axis=1),(-1,1))\n",
    "\n",
    "def compute_nlls(self, logdirs, model_name, num_classes, setting,\\\n",
    "                        plen=1, reverse_order=False, max_std=5, max_enslen=10**5):\n",
    "    loaders, num_classes = data.loaders(\n",
    "                \"CIFAR%d\"%num_classes,\n",
    "                \"./data/\",\n",
    "                128,\n",
    "                1,\n",
    "                \"%s_noDA\"%(\"VGG\" if model_name == \"VGG16\" else \"ResNet\"),\n",
    "                # True\n",
    "            )\n",
    "    targets = np.array(loaders[\"test\"].dataset.targets)\n",
    "\n",
    "    ll = 1 if not reverse_order else -1\n",
    "    if not type(logdirs) == list:\n",
    "        logdirs = [logdirs]\n",
    "    preds = {}\n",
    "    for logdir in logdirs:\n",
    "        for i, p_folder in enumerate(sorted(os.listdir(logdir))):\n",
    "            if not \"ipynb\" in p_folder and not \"run\" in p_folder:\n",
    "                p_str = p_folder\n",
    "                x = p_folder.find(\"_\")\n",
    "                # if x > 0:\n",
    "                #     p = float(p_folder[plen:x])\n",
    "                # else:\n",
    "                p = p_folder[plen:]\n",
    "                exp_folders = sorted(os.listdir(logdir+\"/\"+p_folder))\n",
    "                if not p in preds:\n",
    "                    preds[p] = []\n",
    "                for exp_folder in exp_folders:\n",
    "                    if not \"ipynb\" in logdir+\"/\"+p_folder+\"/\"+exp_folder and\\\n",
    "                    not \"run\" in logdir+\"/\"+p_folder+\"/\"+exp_folder and\\\n",
    "                    not \"skipsameseed\" in exp_folder:\n",
    "                        for f in sorted(os.listdir(logdir+\"/\"+p_folder+\"/\"+exp_folder))[::ll]:\n",
    "                            if \"predictions\" in f:\n",
    "                                fn = logdir+\"/\"+p_folder+\"/\"+exp_folder+\"/\"+f\n",
    "                                if self.setup == 1:\n",
    "                                    ppp = softmax(np.float64(np.load(fn)))\n",
    "                                else:\n",
    "                                    ppp = np.float64(np.load(fn))\n",
    "                                acc = np.equal(np.argmax(ppp, axis=1), targets).mean()\n",
    "                                if acc > 0.15:\n",
    "                                    preds[p].append(ppp[:, :, None] if self.setup==1\\\n",
    "                                                    else ppp)\n",
    "                                else:\n",
    "                                    print(exp_folder+\"/\"+f, \"is bad!\")\n",
    "    return preds, targets"
   ]
  },
  {
   "cell_type": "code",
   "execution_count": 24,
   "metadata": {},
   "outputs": [
    {
     "name": "stdout",
     "output_type": "stream",
     "text": [
      "Files already downloaded and verified\n",
      "Using train (45000)\n",
      "Using validation (5000)\n"
     ]
    }
   ],
   "source": [
    "setup = 1\n",
    "regime = 'optimal'\n",
    "model = 'VGG16'\n",
    "dataset = 10\n",
    "setting = 'reg'\n",
    "\n",
    "temps = np.arange(0.5, 3.2, 0.05)\n",
    "logdirs = [\"logs/oct/train.py-CIFAR10_VGG16/test_it\",]\n",
    "\n",
    "computer = ComputeNLLs(setup=setup, regime=regime, temps=temps)\n",
    "preds, targets = compute_nlls(computer, logdirs, model, dataset, setting, plen=1, reverse_order=False, max_std=10**5, max_enslen=10**5)"
   ]
  },
  {
   "cell_type": "code",
   "execution_count": 29,
   "metadata": {},
   "outputs": [
    {
     "name": "stdout",
     "output_type": "stream",
     "text": [
      "1\n",
      "2\n",
      "3\n",
      "4\n"
     ]
    }
   ],
   "source": [
    "max_enslen = 100\n",
    "max_std = 5\n",
    "nlls_c = []\n",
    "nlls_nc = []\n",
    "accs_global = []\n",
    "temps_global = []\n",
    "saturation_point = 20\n",
    "\n",
    "ps = sorted(preds.keys())[::-1]\n",
    "if setup == 1 or regime == \"optimal\":\n",
    "    leng = min(len(preds[boot_name]), max_enslen, len(preds[all_name]) - saturation_point)\n",
    "\n",
    "    for l in range(1, leng+1):\n",
    "        print(l)\n",
    "        accs, c_nlls, nc_nlls, temps = [], [], [], []\n",
    "        count = min(len(preds[boot_name])//l, max_std)\n",
    "        for j in range(count):\n",
    "            ret = computer.get_ens_quality1_2o(preds[all_name][:saturation_point] + preds[boot_name][j*l:(j+1)*l], targets)\n",
    "            if regime == \"optimal\":\n",
    "                acc, nc_nll, c_nll, predictions, temps_ = ret\n",
    "            else: # \"grid\"\n",
    "                acc, c_nll, predictions = ret\n",
    "            if acc > 0.15:\n",
    "                accs.append(acc)\n",
    "                c_nlls.append(c_nll)\n",
    "                if regime == \"optimal\":\n",
    "                    nc_nlls.append(nc_nll)\n",
    "                    temps.append(temps_)\n",
    "\n",
    "        nlls_c.append(c_nlls)\n",
    "        nlls_nc.append(nc_nlls)\n",
    "        accs_global.append(accs)\n",
    "        temps_global.append(temps)"
   ]
  },
  {
   "cell_type": "code",
   "execution_count": 30,
   "metadata": {},
   "outputs": [
    {
     "data": {
      "image/png": "[encoded data removed]",
      "text/plain": [
       "<Figure size 1440x504 with 3 Axes>"
      ]
     },
     "metadata": {
      "needs_background": "light"
     },
     "output_type": "display_data"
    }
   ],
   "source": [
    "fig, (ax1, ax2, ax3) = plt.subplots(1, 3, figsize = (20, 7))\n",
    "\n",
    "major_ticks = np.arange(1, max(len(nlls_c_or[boot_name]), len(nlls_c_or[all_name])) + 1, 1)\n",
    "\n",
    "ax1.scatter([j + 1 for j, sl in enumerate(nlls_c_or[boot_name]) for i in sl],\n",
    "            [i for sl in nlls_c_or[boot_name] for i in sl], marker='+')\n",
    "ax1.scatter([j + 1 for j, sl in enumerate(nlls_c_or[all_name]) for i in sl],\n",
    "            [i for sl in nlls_c_or[all_name] for i in sl], marker='+')\n",
    "ax1.scatter([j + 1 + saturation_point for j, sl in enumerate(nlls_c) for i in sl],\n",
    "            [i for sl in nlls_c for i in sl], marker='+')\n",
    "ax1.grid()\n",
    "ax1.set_xticks(major_ticks)\n",
    "ax1.set_title('nlls_c')\n",
    "ax2.scatter([j + 1 for j, sl in enumerate(nlls_nc_or[boot_name]) for i in sl],\n",
    "            [i for sl in nlls_nc_or[boot_name] for i in sl], marker='+', label='bootstrap')\n",
    "ax2.scatter([j + 1 for j, sl in enumerate(nlls_nc_or[all_name]) for i in sl],\n",
    "            [i for sl in nlls_nc_or[all_name] for i in sl], marker='+', label='all')\n",
    "ax2.scatter([j + 1 + saturation_point for j, sl in enumerate(nlls_nc) for i in sl],\n",
    "            [i for sl in nlls_nc for i in sl], marker='+', label=str(saturation_point) + '_all + bootstrap')\n",
    "ax2.grid()\n",
    "ax2.set_xticks(major_ticks)\n",
    "ax2.set_title('nlls_nc')\n",
    "ax3.scatter([j + 1 for j, sl in enumerate(accs_global_or[boot_name]) for i in sl],\n",
    "            [i for sl in accs_global_or[boot_name] for i in sl], marker='+')\n",
    "ax3.scatter([j + 1 for j, sl in enumerate(accs_global_or[all_name]) for i in sl],\n",
    "            [i for sl in accs_global_or[all_name] for i in sl], marker='+')\n",
    "ax3.scatter([j + 1 + saturation_point for j, sl in enumerate(accs_global) for i in sl],\n",
    "            [i for sl in accs_global for i in sl], marker='+')\n",
    "ax3.grid()\n",
    "ax3.set_xticks(major_ticks)\n",
    "ax3.set_title('acc')\n",
    "\n",
    "\n",
    "# fig.suptitle('w' + a1)\n",
    "\n",
    "ax2.legend()\n",
    "plt.show()"
   ]
  },
  {
   "cell_type": "code",
   "execution_count": null,
   "metadata": {},
   "outputs": [],
   "source": []
  }
 ],
 "metadata": {
  "interpreter": {
   "hash": "31f2aee4e71d21fbe5cf8b01ff0e069b9275f58929596ceb00d14d90e3e16cd6"
  },
  "kernelspec": {
   "display_name": "Python 3.8.10 64-bit",
   "name": "python3"
  },
  "language_info": {
   "codemirror_mode": {
    "name": "ipython",
    "version": 3
   },
   "file_extension": ".py",
   "mimetype": "text/x-python",
   "name": "python",
   "nbconvert_exporter": "python",
   "pygments_lexer": "ipython3",
   "version": "3.8.10"
  },
  "orig_nbformat": 4
 },
 "nbformat": 4,
 "nbformat_minor": 2
}
