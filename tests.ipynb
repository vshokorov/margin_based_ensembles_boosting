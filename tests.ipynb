{
 "cells": [
  {
   "cell_type": "code",
   "execution_count": 1,
   "metadata": {},
   "outputs": [],
   "source": [
    "import torch\n",
    "import numpy as np\n",
    "import models\n",
    "import data\n",
    "import utils\n",
    "from matplotlib import pyplot as plt"
   ]
  },
  {
   "cell_type": "markdown",
   "metadata": {},
   "source": [
    "# Так как тесты проходят не валидационном датасете, а другом. Поэтому в данной части немного исправим файлы `predictions_run*`"
   ]
  },
  {
   "cell_type": "code",
   "execution_count": 3,
   "metadata": {},
   "outputs": [
    {
     "name": "stdout",
     "output_type": "stream",
     "text": [
      "Files already downloaded and verified\n",
      "Using train (45000)\n",
      "Using validation (5000)\n"
     ]
    }
   ],
   "source": [
    "\"--dir=logs\",\n",
    "data_path=\"./data/\"\n",
    "dataset=\"CIFAR10\"\n",
    "transform=\"VGG\"\n",
    "model=\"VGG16\"\n",
    "batch_size=128\n",
    "num_workers=4\n",
    "use_test=False\n",
    "\"--save_freq=200\",\n",
    "\"--print_freq=5\",\n",
    "\"--epochs=200\",\n",
    "\"--wd=0.001\",\n",
    "\"--lr=0.05\",\n",
    "dropout=0.5\n",
    "\"--comment=width64\",\n",
    "\"--seed=25477\",\n",
    "width=64\n",
    "\"--num-nets=8\",\n",
    "\"--num-exps=5\"\n",
    "\n",
    "loaders, num_classes = data.loaders(dataset,\n",
    "                                    data_path,\n",
    "                                    batch_size,\n",
    "                                    num_workers,\n",
    "                                    transform,\n",
    "                                    use_test\n",
    "                                    )\n",
    "\n",
    "architecture = getattr(models, model)()\n",
    "architecture.kwargs[\"k\"] = width\n",
    "if \"VGG\" in model or \"WideResNet\" in model:\n",
    "    architecture.kwargs[\"p\"] = dropout\n",
    "model = architecture.base(num_classes=num_classes, **architecture.kwargs)"
   ]
  },
  {
   "cell_type": "code",
   "execution_count": 7,
   "metadata": {},
   "outputs": [],
   "source": [
    "def predictions(test_loader, model, **kwargs):\n",
    "    model.eval()\n",
    "    preds = []\n",
    "    targets = []\n",
    "    for input, target in test_loader:\n",
    "        input = input.cuda() # async=True\n",
    "        output = model(input, **kwargs)\n",
    "        probs = output #F.softmax(output, dim=1)\n",
    "        preds.append(probs.cpu().data.numpy())\n",
    "        targets.append(target.numpy())\n",
    "    return np.vstack(preds), np.concatenate(targets)"
   ]
  },
  {
   "cell_type": "code",
   "execution_count": 8,
   "metadata": {},
   "outputs": [
    {
     "ename": "FileNotFoundError",
     "evalue": "[Errno 2] No such file or directory: 'logs/oct/train.py-CIFAR10_VGG16/test_it/width64_all_DS-11-10-22:03:48/model_run0.cpt'",
     "output_type": "error",
     "traceback": [
      "\u001b[0;31m---------------------------------------------------------------------------\u001b[0m",
      "\u001b[0;31mFileNotFoundError\u001b[0m                         Traceback (most recent call last)",
      "\u001b[0;32m<ipython-input-8-f79b423f52a8>\u001b[0m in \u001b[0;36m<module>\u001b[0;34m\u001b[0m\n\u001b[1;32m      2\u001b[0m \u001b[0;34m\u001b[0m\u001b[0m\n\u001b[1;32m      3\u001b[0m \u001b[0;32mfor\u001b[0m \u001b[0mnum_model\u001b[0m \u001b[0;32min\u001b[0m \u001b[0mrange\u001b[0m\u001b[0;34m(\u001b[0m\u001b[0;36m8\u001b[0m\u001b[0;34m)\u001b[0m\u001b[0;34m:\u001b[0m\u001b[0;34m\u001b[0m\u001b[0;34m\u001b[0m\u001b[0m\n\u001b[0;32m----> 4\u001b[0;31m     \u001b[0msaved_data\u001b[0m \u001b[0;34m=\u001b[0m \u001b[0mtorch\u001b[0m\u001b[0;34m.\u001b[0m\u001b[0mload\u001b[0m\u001b[0;34m(\u001b[0m\u001b[0mwork_dir\u001b[0m\u001b[0;34m+\u001b[0m\u001b[0;34mf'model_run{num_model}.cpt'\u001b[0m\u001b[0;34m,\u001b[0m \u001b[0mmap_location\u001b[0m\u001b[0;34m=\u001b[0m\u001b[0;34m'cpu'\u001b[0m\u001b[0;34m)\u001b[0m\u001b[0;34m\u001b[0m\u001b[0;34m\u001b[0m\u001b[0m\n\u001b[0m\u001b[1;32m      5\u001b[0m     \u001b[0mmodel\u001b[0m\u001b[0;34m.\u001b[0m\u001b[0mload_state_dict\u001b[0m\u001b[0;34m(\u001b[0m\u001b[0msaved_data\u001b[0m\u001b[0;34m[\u001b[0m\u001b[0;34m'model_state'\u001b[0m\u001b[0;34m]\u001b[0m\u001b[0;34m)\u001b[0m\u001b[0;34m\u001b[0m\u001b[0;34m\u001b[0m\u001b[0m\n\u001b[1;32m      6\u001b[0m \u001b[0;34m\u001b[0m\u001b[0m\n",
      "\u001b[0;32m~/.local/lib/python3.8/site-packages/torch/serialization.py\u001b[0m in \u001b[0;36mload\u001b[0;34m(f, map_location, pickle_module, **pickle_load_args)\u001b[0m\n\u001b[1;32m    577\u001b[0m         \u001b[0mpickle_load_args\u001b[0m\u001b[0;34m[\u001b[0m\u001b[0;34m'encoding'\u001b[0m\u001b[0;34m]\u001b[0m \u001b[0;34m=\u001b[0m \u001b[0;34m'utf-8'\u001b[0m\u001b[0;34m\u001b[0m\u001b[0;34m\u001b[0m\u001b[0m\n\u001b[1;32m    578\u001b[0m \u001b[0;34m\u001b[0m\u001b[0m\n\u001b[0;32m--> 579\u001b[0;31m     \u001b[0;32mwith\u001b[0m \u001b[0m_open_file_like\u001b[0m\u001b[0;34m(\u001b[0m\u001b[0mf\u001b[0m\u001b[0;34m,\u001b[0m \u001b[0;34m'rb'\u001b[0m\u001b[0;34m)\u001b[0m \u001b[0;32mas\u001b[0m \u001b[0mopened_file\u001b[0m\u001b[0;34m:\u001b[0m\u001b[0;34m\u001b[0m\u001b[0;34m\u001b[0m\u001b[0m\n\u001b[0m\u001b[1;32m    580\u001b[0m         \u001b[0;32mif\u001b[0m \u001b[0m_is_zipfile\u001b[0m\u001b[0;34m(\u001b[0m\u001b[0mopened_file\u001b[0m\u001b[0;34m)\u001b[0m\u001b[0;34m:\u001b[0m\u001b[0;34m\u001b[0m\u001b[0;34m\u001b[0m\u001b[0m\n\u001b[1;32m    581\u001b[0m             \u001b[0;31m# The zipfile reader is going to advance the current file position.\u001b[0m\u001b[0;34m\u001b[0m\u001b[0;34m\u001b[0m\u001b[0;34m\u001b[0m\u001b[0m\n",
      "\u001b[0;32m~/.local/lib/python3.8/site-packages/torch/serialization.py\u001b[0m in \u001b[0;36m_open_file_like\u001b[0;34m(name_or_buffer, mode)\u001b[0m\n\u001b[1;32m    228\u001b[0m \u001b[0;32mdef\u001b[0m \u001b[0m_open_file_like\u001b[0m\u001b[0;34m(\u001b[0m\u001b[0mname_or_buffer\u001b[0m\u001b[0;34m,\u001b[0m \u001b[0mmode\u001b[0m\u001b[0;34m)\u001b[0m\u001b[0;34m:\u001b[0m\u001b[0;34m\u001b[0m\u001b[0;34m\u001b[0m\u001b[0m\n\u001b[1;32m    229\u001b[0m     \u001b[0;32mif\u001b[0m \u001b[0m_is_path\u001b[0m\u001b[0;34m(\u001b[0m\u001b[0mname_or_buffer\u001b[0m\u001b[0;34m)\u001b[0m\u001b[0;34m:\u001b[0m\u001b[0;34m\u001b[0m\u001b[0;34m\u001b[0m\u001b[0m\n\u001b[0;32m--> 230\u001b[0;31m         \u001b[0;32mreturn\u001b[0m \u001b[0m_open_file\u001b[0m\u001b[0;34m(\u001b[0m\u001b[0mname_or_buffer\u001b[0m\u001b[0;34m,\u001b[0m \u001b[0mmode\u001b[0m\u001b[0;34m)\u001b[0m\u001b[0;34m\u001b[0m\u001b[0;34m\u001b[0m\u001b[0m\n\u001b[0m\u001b[1;32m    231\u001b[0m     \u001b[0;32melse\u001b[0m\u001b[0;34m:\u001b[0m\u001b[0;34m\u001b[0m\u001b[0;34m\u001b[0m\u001b[0m\n\u001b[1;32m    232\u001b[0m         \u001b[0;32mif\u001b[0m \u001b[0;34m'w'\u001b[0m \u001b[0;32min\u001b[0m \u001b[0mmode\u001b[0m\u001b[0;34m:\u001b[0m\u001b[0;34m\u001b[0m\u001b[0;34m\u001b[0m\u001b[0m\n",
      "\u001b[0;32m~/.local/lib/python3.8/site-packages/torch/serialization.py\u001b[0m in \u001b[0;36m__init__\u001b[0;34m(self, name, mode)\u001b[0m\n\u001b[1;32m    209\u001b[0m \u001b[0;32mclass\u001b[0m \u001b[0m_open_file\u001b[0m\u001b[0;34m(\u001b[0m\u001b[0m_opener\u001b[0m\u001b[0;34m)\u001b[0m\u001b[0;34m:\u001b[0m\u001b[0;34m\u001b[0m\u001b[0;34m\u001b[0m\u001b[0m\n\u001b[1;32m    210\u001b[0m     \u001b[0;32mdef\u001b[0m \u001b[0m__init__\u001b[0m\u001b[0;34m(\u001b[0m\u001b[0mself\u001b[0m\u001b[0;34m,\u001b[0m \u001b[0mname\u001b[0m\u001b[0;34m,\u001b[0m \u001b[0mmode\u001b[0m\u001b[0;34m)\u001b[0m\u001b[0;34m:\u001b[0m\u001b[0;34m\u001b[0m\u001b[0;34m\u001b[0m\u001b[0m\n\u001b[0;32m--> 211\u001b[0;31m         \u001b[0msuper\u001b[0m\u001b[0;34m(\u001b[0m\u001b[0m_open_file\u001b[0m\u001b[0;34m,\u001b[0m \u001b[0mself\u001b[0m\u001b[0;34m)\u001b[0m\u001b[0;34m.\u001b[0m\u001b[0m__init__\u001b[0m\u001b[0;34m(\u001b[0m\u001b[0mopen\u001b[0m\u001b[0;34m(\u001b[0m\u001b[0mname\u001b[0m\u001b[0;34m,\u001b[0m \u001b[0mmode\u001b[0m\u001b[0;34m)\u001b[0m\u001b[0;34m)\u001b[0m\u001b[0;34m\u001b[0m\u001b[0;34m\u001b[0m\u001b[0m\n\u001b[0m\u001b[1;32m    212\u001b[0m \u001b[0;34m\u001b[0m\u001b[0m\n\u001b[1;32m    213\u001b[0m     \u001b[0;32mdef\u001b[0m \u001b[0m__exit__\u001b[0m\u001b[0;34m(\u001b[0m\u001b[0mself\u001b[0m\u001b[0;34m,\u001b[0m \u001b[0;34m*\u001b[0m\u001b[0margs\u001b[0m\u001b[0;34m)\u001b[0m\u001b[0;34m:\u001b[0m\u001b[0;34m\u001b[0m\u001b[0;34m\u001b[0m\u001b[0m\n",
      "\u001b[0;31mFileNotFoundError\u001b[0m: [Errno 2] No such file or directory: 'logs/oct/train.py-CIFAR10_VGG16/test_it/width64_all_DS-11-10-22:03:48/model_run0.cpt'"
     ]
    }
   ],
   "source": [
    "# work_dir = 'drive/MyDrive/Vetrov/power_laws_deep_ensembles/logs/oct/train.py-CIFAR10_VGG16/width16_bootstrapped_DS-11-16-22:42:00/'\n",
    "work_dir = 'drive/MyDrive/Vetrov/power_laws_deep_ensembles/logs/oct/train.py-CIFAR10_VGG16/width16_all_DS-11-16-22:41:56/'\n",
    "\n",
    "for num_model in range(100):\n",
    "    saved_data = torch.load(work_dir+f'model_run{num_model}.cpt', map_location='cpu')\n",
    "    model.load_state_dict(saved_data['model_state'])\n",
    "\n",
    "    predictions_logits, targets = predictions(loaders['test'], model)\n",
    "    np.save(work_dir + 'predictions_run%d' % num_model, predictions_logits)"
   ]
  },
  {
   "cell_type": "markdown",
   "metadata": {},
   "source": [
    "# Код для отрисовки картинок сравнения ансамблей"
   ]
  },
  {
   "cell_type": "code",
   "execution_count": 2,
   "metadata": {},
   "outputs": [
    {
     "name": "stdout",
     "output_type": "stream",
     "text": [
      "gather_nlls.py-setup1_optimal_CIFAR10_VGG16_regtest_run-01-04-16:39:00\n",
      "gather_nlls.py-setup1_optimal_CIFAR10_VGG16_regtest_run-01-04-16:48:51\n",
      "gather_nlls.py-setup1_optimal_CIFAR10_VGG16_regtest_run-11-17-22:49:03\n",
      "gather_nlls.py-setup1_optimal_CIFAR10_VGG16_regtest_run-12-03-16:03:45\n",
      "gather_nlls.py-setup1_optimal_CIFAR10_VGG16_regtest_run-12-03-16:06:55\n",
      "gather_nlls.py-setup1_optimal_CIFAR10_VGG16_regtest_run-12-03-16:11:02\n",
      "gather_nlls.py-setup1_optimal_CIFAR10_VGG16_regtest_run-12-03-16:15:24\n",
      "gather_nlls.py-setup1_optimal_CIFAR10_VGG16_regtest_run-12-03-16:23:27\n",
      "gather_nlls.py-setup2_optimal_CIFAR10_VGG16_regtest_run-11-15-18:25:38\n",
      "gather_nlls.py-setup2_optimal_CIFAR10_VGG16_regtest_run-11-16-22:09:47\n",
      "gather_nlls.py-setup2_optimal_CIFAR10_VGG16_regtest_run-11-17-22:30:55\n"
     ]
    }
   ],
   "source": [
    "!ls gather_logs"
   ]
  },
  {
   "cell_type": "code",
   "execution_count": 4,
   "metadata": {},
   "outputs": [],
   "source": [
    "with open('gather_logs/gather_nlls.py-setup1_optimal_CIFAR10_VGG16_regtest_run-01-04-16:48:51/output.out', 'r') as fr:\n",
    "    l = fr.readlines()\n",
    "\n",
    "setup = 2\n",
    "regime = 'optimal'\n",
    "model = 'VGG16'\n",
    "dataset = 10\n",
    "setting = 'reg'"
   ]
  },
  {
   "cell_type": "code",
   "execution_count": 5,
   "metadata": {},
   "outputs": [],
   "source": [
    "import json\n",
    "import yaml"
   ]
  },
  {
   "cell_type": "code",
   "execution_count": 6,
   "metadata": {},
   "outputs": [],
   "source": [
    "nlls_c_or       = yaml.safe_load(l[-1].split('}')[0][1:] + '}')\n",
    "nlls_nc_or      = yaml.safe_load(l[-1].split('}')[1][2:] + '}')\n",
    "accs_global_or  = yaml.safe_load(l[-1].split('}')[2][2:] + '}')\n",
    "temps_global_or = yaml.safe_load(l[-1].split('}')[3][2:] + '}')\n",
    "boot_name, all_name = nlls_c_or.keys()"
   ]
  },
  {
   "cell_type": "code",
   "execution_count": 7,
   "metadata": {},
   "outputs": [
    {
     "data": {
      "text/plain": [
       "(20, 23)"
      ]
     },
     "execution_count": 7,
     "metadata": {},
     "output_type": "execute_result"
    }
   ],
   "source": [
    "len(nlls_c_or[boot_name]), len(nlls_c_or[all_name])"
   ]
  },
  {
   "cell_type": "code",
   "execution_count": 10,
   "metadata": {},
   "outputs": [
    {
     "data": {
      "image/png": "[encoded data removed]",
      "text/plain": [
       "<Figure size 1944x648 with 3 Axes>"
      ]
     },
     "metadata": {
      "needs_background": "light"
     },
     "output_type": "display_data"
    }
   ],
   "source": [
    "fig, (ax1, ax2, ax3) = plt.subplots(1, 3, figsize = (27, 9))\n",
    "\n",
    "major_ticks = np.arange(1, max(len(nlls_c_or[boot_name]), len(nlls_c_or[all_name])) + 1, 5)\n",
    "minor_ticks = np.arange(1, max(len(nlls_c_or[boot_name]), len(nlls_c_or[all_name])) + 1, 1)\n",
    "\n",
    "a = ax1.scatter([j + 1 for j, sl in enumerate(nlls_c_or[boot_name]) for i in sl],\n",
    "            [i for sl in nlls_c_or[boot_name] for i in sl], marker='+')\n",
    "b = ax1.scatter([j + 1 for j, sl in enumerate(nlls_c_or[all_name]) for i in sl],\n",
    "            [i for sl in nlls_c_or[all_name] for i in sl], marker='+')\n",
    "ax1.set_xticks(major_ticks)\n",
    "ax1.set_xticks(minor_ticks, minor=True)\n",
    "ax1.grid(which='both')\n",
    "ax1.set_title('nlls_c')\n",
    "ax2.scatter([j + 1 for j, sl in enumerate(nlls_nc_or[boot_name]) for i in sl],\n",
    "            [i for sl in nlls_nc_or[boot_name] for i in sl], marker='+', label=boot_name)\n",
    "ax2.scatter([j + 1 for j, sl in enumerate(nlls_nc_or[all_name]) for i in sl],\n",
    "            [i for sl in nlls_nc_or[all_name] for i in sl], marker='+', label=all_name)\n",
    "ax2.set_xticks(major_ticks)\n",
    "ax2.set_xticks(minor_ticks, minor=True)\n",
    "ax2.grid(which='both')\n",
    "ax2.set_title('nlls_nc')\n",
    "ax3.scatter([j + 1 for j, sl in enumerate(accs_global_or[boot_name]) for i in sl],\n",
    "            [i for sl in accs_global_or[boot_name] for i in sl], marker='+')\n",
    "ax3.scatter([j + 1 for j, sl in enumerate(accs_global_or[all_name]) for i in sl],\n",
    "            [i for sl in accs_global_or[all_name] for i in sl], marker='+')\n",
    "ax3.set_xticks(major_ticks)\n",
    "ax3.set_xticks(minor_ticks, minor=True)\n",
    "ax3.grid(which='both')\n",
    "ax3.set_title('acc')\n",
    "\n",
    "\n",
    "fig.suptitle(f'setup {setup}')\n",
    "\n",
    "ax2.legend()\n",
    "plt.show()"
   ]
  },
  {
   "cell_type": "code",
   "execution_count": 22,
   "metadata": {},
   "outputs": [],
   "source": [
    "import os\n",
    "from gather_nlls_module import ComputeNLLs\n",
    "\n",
    "def softmax(x):\n",
    "    e_x = np.exp(x - np.reshape(np.max(x,axis=1),(-1,1)))\n",
    "    return e_x / np.reshape(e_x.sum(axis=1),(-1,1))\n",
    "\n",
    "def compute_nlls(self, logdirs, model_name, num_classes, setting,\\\n",
    "                        plen=1, reverse_order=False, max_std=5, max_enslen=10**5):\n",
    "    loaders, num_classes = data.loaders(\n",
    "                \"CIFAR%d\"%num_classes,\n",
    "                \"./data/\",\n",
    "                128,\n",
    "                1,\n",
    "                \"%s_noDA\"%(\"VGG\" if model_name == \"VGG16\" else \"ResNet\"),\n",
    "                # True\n",
    "            )\n",
    "    targets = np.array(loaders[\"test\"].dataset.targets)\n",
    "\n",
    "    ll = 1 if not reverse_order else -1\n",
    "    if not type(logdirs) == list:\n",
    "        logdirs = [logdirs]\n",
    "    preds = {}\n",
    "    for logdir in logdirs:\n",
    "        for i, p_folder in enumerate(sorted(os.listdir(logdir))):\n",
    "            if not \"ipynb\" in p_folder and not \"run\" in p_folder:\n",
    "                p_str = p_folder\n",
    "                x = p_folder.find(\"_\")\n",
    "                # if x > 0:\n",
    "                #     p = float(p_folder[plen:x])\n",
    "                # else:\n",
    "                p = p_folder[plen:]\n",
    "                exp_folders = sorted(os.listdir(logdir+\"/\"+p_folder))\n",
    "                if not p in preds:\n",
    "                    preds[p] = []\n",
    "                # for exp_folder in exp_folders:\n",
    "                exp_folder = p_folder\n",
    "                p_folder = ''\n",
    "                if not \"ipynb\" in logdir+\"/\"+p_folder+\"/\"+exp_folder and\\\n",
    "                not \"run\" in logdir+\"/\"+p_folder+\"/\"+exp_folder and\\\n",
    "                not \"skipsameseed\" in exp_folder:\n",
    "                    for f in sorted(os.listdir(logdir+\"/\"+p_folder+\"/\"+exp_folder))[::ll]:\n",
    "                        if \"predictions\" in f:\n",
    "                            fn = logdir+\"/\"+p_folder+\"/\"+exp_folder+\"/\"+f\n",
    "                            if self.setup == 1:\n",
    "                                ppp = softmax(np.float64(np.load(fn)))\n",
    "                            else:\n",
    "                                ppp = np.float64(np.load(fn))\n",
    "                            acc = np.equal(np.argmax(ppp, axis=1), targets).mean()\n",
    "                            if acc > 0.15:\n",
    "                                preds[p].append(ppp[:, :, None] if self.setup==1\\\n",
    "                                                else ppp)\n",
    "                            else:\n",
    "                                print(exp_folder+\"/\"+f, \"is bad!\")\n",
    "    return preds, targets"
   ]
  },
  {
   "cell_type": "code",
   "execution_count": 23,
   "metadata": {},
   "outputs": [
    {
     "name": "stdout",
     "output_type": "stream",
     "text": [
      "Files already downloaded and verified\n",
      "Using train (45000)\n",
      "Using validation (5000)\n"
     ]
    }
   ],
   "source": [
    "temps = np.arange(0.5, 3.2, 0.05)\n",
    "logdirs = [\"logs/oct/train.py-CIFAR10_VGG16/test_it\",]\n",
    "\n",
    "computer = ComputeNLLs(setup=setup, regime=regime, temps=temps)\n",
    "preds, targets = compute_nlls(computer, logdirs, model, dataset, setting, plen=0, reverse_order=False, max_std=10**5, max_enslen=10**5)"
   ]
  },
  {
   "cell_type": "code",
   "execution_count": 25,
   "metadata": {},
   "outputs": [
    {
     "name": "stdout",
     "output_type": "stream",
     "text": [
      "1\n",
      "2\n",
      "3\n",
      "4\n",
      "5\n",
      "6\n",
      "7\n",
      "8\n",
      "9\n",
      "10\n",
      "11\n",
      "12\n"
     ]
    }
   ],
   "source": [
    "max_enslen = 100\n",
    "max_std = 5\n",
    "nlls_c = []\n",
    "nlls_nc = []\n",
    "accs_global = []\n",
    "temps_global = []\n",
    "saturation_point = 11\n",
    "\n",
    "ps = sorted(preds.keys())[::-1]\n",
    "if setup == 1 or regime == \"optimal\":\n",
    "    leng = min(len(preds[boot_name]), max_enslen, len(preds[all_name]) - saturation_point)\n",
    "\n",
    "    for l in range(1, leng+1):\n",
    "        print(l)\n",
    "        accs, c_nlls, nc_nlls, temps = [], [], [], []\n",
    "        count = min(len(preds[boot_name])//l, max_std)\n",
    "        for j in range(count):\n",
    "            ret = computer.get_ens_quality1_2o(preds[all_name][:saturation_point] + preds[boot_name][j*l:(j+1)*l], targets)\n",
    "            if regime == \"optimal\":\n",
    "                acc, nc_nll, c_nll, predictions, temps_ = ret\n",
    "            else: # \"grid\"\n",
    "                acc, c_nll, predictions = ret\n",
    "            if acc > 0.15:\n",
    "                accs.append(acc)\n",
    "                c_nlls.append(c_nll)\n",
    "                if regime == \"optimal\":\n",
    "                    nc_nlls.append(nc_nll)\n",
    "                    temps.append(temps_)\n",
    "\n",
    "        nlls_c.append(c_nlls)\n",
    "        nlls_nc.append(nc_nlls)\n",
    "        accs_global.append(accs)\n",
    "        temps_global.append(temps)"
   ]
  },
  {
   "cell_type": "code",
   "execution_count": 26,
   "metadata": {},
   "outputs": [
    {
     "data": {
      "image/png": "[encoded data removed]",
      "text/plain": [
       "<Figure size 1440x504 with 3 Axes>"
      ]
     },
     "metadata": {
      "needs_background": "light"
     },
     "output_type": "display_data"
    }
   ],
   "source": [
    "fig, (ax1, ax2, ax3) = plt.subplots(1, 3, figsize = (20, 7))\n",
    "\n",
    "major_ticks = np.arange(1, max(len(nlls_c_or[boot_name]), len(nlls_c_or[all_name])) + 1, 5)\n",
    "minor_ticks = np.arange(1, max(len(nlls_c_or[boot_name]), len(nlls_c_or[all_name])) + 1, 1)\n",
    "\n",
    "ax1.scatter([j + 1 for j, sl in enumerate(nlls_c_or[boot_name]) for i in sl],\n",
    "            [i for sl in nlls_c_or[boot_name] for i in sl], marker='+')\n",
    "ax1.scatter([j + 1 for j, sl in enumerate(nlls_c_or[all_name]) for i in sl],\n",
    "            [i for sl in nlls_c_or[all_name] for i in sl], marker='+')\n",
    "ax1.scatter([j + 1 + saturation_point for j, sl in enumerate(nlls_c) for i in sl],\n",
    "            [i for sl in nlls_c for i in sl], marker='+')\n",
    "ax1.set_xticks(major_ticks)\n",
    "ax1.set_xticks(minor_ticks, minor=True)\n",
    "ax1.grid(which='both')\n",
    "ax1.set_title('nlls_c')\n",
    "ax2.scatter([j + 1 for j, sl in enumerate(nlls_nc_or[boot_name]) for i in sl],\n",
    "            [i for sl in nlls_nc_or[boot_name] for i in sl], marker='+', label='bootstrap')\n",
    "ax2.scatter([j + 1 for j, sl in enumerate(nlls_nc_or[all_name]) for i in sl],\n",
    "            [i for sl in nlls_nc_or[all_name] for i in sl], marker='+', label='all')\n",
    "ax2.scatter([j + 1 + saturation_point for j, sl in enumerate(nlls_nc) for i in sl],\n",
    "            [i for sl in nlls_nc for i in sl], marker='+', label=str(saturation_point) + '_all + bootstrap')\n",
    "ax2.set_xticks(major_ticks)\n",
    "ax2.set_xticks(minor_ticks, minor=True)\n",
    "ax2.grid(which='both')\n",
    "ax2.set_title('nlls_nc')\n",
    "ax3.scatter([j + 1 for j, sl in enumerate(accs_global_or[boot_name]) for i in sl],\n",
    "            [i for sl in accs_global_or[boot_name] for i in sl], marker='+')\n",
    "ax3.scatter([j + 1 for j, sl in enumerate(accs_global_or[all_name]) for i in sl],\n",
    "            [i for sl in accs_global_or[all_name] for i in sl], marker='+')\n",
    "ax3.scatter([j + 1 + saturation_point for j, sl in enumerate(accs_global) for i in sl],\n",
    "            [i for sl in accs_global for i in sl], marker='+')\n",
    "ax3.set_xticks(major_ticks)\n",
    "ax3.set_xticks(minor_ticks, minor=True)\n",
    "ax3.grid(which='both')\n",
    "ax3.set_title('acc')\n",
    "\n",
    "fig.suptitle(f'setup {setup}')\n",
    "\n",
    "ax2.legend()\n",
    "plt.show()"
   ]
  },
  {
   "cell_type": "code",
   "execution_count": null,
   "metadata": {},
   "outputs": [],
   "source": []
  }
 ],
 "metadata": {
  "interpreter": {
   "hash": "31f2aee4e71d21fbe5cf8b01ff0e069b9275f58929596ceb00d14d90e3e16cd6"
  },
  "kernelspec": {
   "display_name": "Python 3.8.10 64-bit",
   "name": "python3"
  },
  "language_info": {
   "codemirror_mode": {
    "name": "ipython",
    "version": 3
   },
   "file_extension": ".py",
   "mimetype": "text/x-python",
   "name": "python",
   "nbconvert_exporter": "python",
   "pygments_lexer": "ipython3",
   "version": "3.8.10"
  },
  "orig_nbformat": 4
 },
 "nbformat": 4,
 "nbformat_minor": 2
}
